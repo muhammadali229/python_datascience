{
 "cells": [
  {
   "cell_type": "markdown",
   "id": "cf16ef3b",
   "metadata": {
    "papermill": {
     "duration": 0.031823,
     "end_time": "2021-12-13T09:46:40.832702",
     "exception": false,
     "start_time": "2021-12-13T09:46:40.800879",
     "status": "completed"
    },
    "tags": []
   },
   "source": [
    "# Description\n",
    "In this project, we will explore the Stanford Open Policing Project dataset and try to find out the impact of gender on police behavior. You can collect data for any state from this [website](https://openpolicing.stanford.edu/data/). In the project we collect data from Rhode Island."
   ]
  },
  {
   "cell_type": "markdown",
   "id": "882bf16c",
   "metadata": {
    "papermill": {
     "duration": 0.029763,
     "end_time": "2021-12-13T09:46:40.893188",
     "exception": false,
     "start_time": "2021-12-13T09:46:40.863425",
     "status": "completed"
    },
    "tags": []
   },
   "source": [
    "## 1. Preparing data for analysis\n",
    "First we have to clean our dataset and ensure that it don't contain duplicates, handle missing values and fixing data types"
   ]
  },
  {
   "cell_type": "code",
   "execution_count": 1,
   "id": "bfa9f07e",
   "metadata": {
    "execution": {
     "iopub.execute_input": "2021-12-13T09:46:40.966822Z",
     "iopub.status.busy": "2021-12-13T09:46:40.965842Z",
     "iopub.status.idle": "2021-12-13T09:46:40.969522Z",
     "shell.execute_reply": "2021-12-13T09:46:40.969965Z",
     "shell.execute_reply.started": "2021-12-13T09:16:25.839543Z"
    },
    "papermill": {
     "duration": 0.046784,
     "end_time": "2021-12-13T09:46:40.970307",
     "exception": false,
     "start_time": "2021-12-13T09:46:40.923523",
     "status": "completed"
    },
    "tags": []
   },
   "outputs": [],
   "source": [
    "# import libraries\n",
    "import pandas as pd\n",
    "from pandas.api.types import CategoricalDtype\n",
    "import numpy as np\n",
    "import matplotlib.pyplot as plt"
   ]
  },
  {
   "cell_type": "code",
   "execution_count": 2,
   "id": "422acaf7",
   "metadata": {
    "execution": {
     "iopub.execute_input": "2021-12-13T09:46:41.036497Z",
     "iopub.status.busy": "2021-12-13T09:46:41.035766Z",
     "iopub.status.idle": "2021-12-13T09:46:41.347710Z",
     "shell.execute_reply": "2021-12-13T09:46:41.346724Z",
     "shell.execute_reply.started": "2021-12-13T09:16:25.847682Z"
    },
    "papermill": {
     "duration": 0.347096,
     "end_time": "2021-12-13T09:46:41.347877",
     "exception": false,
     "start_time": "2021-12-13T09:46:41.000781",
     "status": "completed"
    },
    "tags": []
   },
   "outputs": [],
   "source": [
    "# import data\n",
    "police = pd.read_csv('../input/police-datasets/police.csv')\n",
    "weather = pd.read_csv('../input/police-datasets/weather.csv')"
   ]
  },
  {
   "cell_type": "code",
   "execution_count": 3,
   "id": "85fcd51f",
   "metadata": {
    "execution": {
     "iopub.execute_input": "2021-12-13T09:46:41.412626Z",
     "iopub.status.busy": "2021-12-13T09:46:41.411998Z",
     "iopub.status.idle": "2021-12-13T09:46:41.546390Z",
     "shell.execute_reply": "2021-12-13T09:46:41.546902Z",
     "shell.execute_reply.started": "2021-12-13T09:16:26.127733Z"
    },
    "papermill": {
     "duration": 0.16784,
     "end_time": "2021-12-13T09:46:41.547098",
     "exception": false,
     "start_time": "2021-12-13T09:46:41.379258",
     "status": "completed"
    },
    "tags": []
   },
   "outputs": [
    {
     "name": "stdout",
     "output_type": "stream",
     "text": [
      "  state   stop_date stop_time  county_name driver_gender driver_race  \\\n",
      "0    RI  2005-01-04     12:55          NaN             M       White   \n",
      "1    RI  2005-01-23     23:15          NaN             M       White   \n",
      "2    RI  2005-02-17     04:15          NaN             M       White   \n",
      "3    RI  2005-02-20     17:15          NaN             M       White   \n",
      "4    RI  2005-02-24     01:20          NaN             F       White   \n",
      "\n",
      "                    violation_raw  violation  search_conducted search_type  \\\n",
      "0  Equipment/Inspection Violation  Equipment             False         NaN   \n",
      "1                        Speeding   Speeding             False         NaN   \n",
      "2                        Speeding   Speeding             False         NaN   \n",
      "3                Call for Service      Other             False         NaN   \n",
      "4                        Speeding   Speeding             False         NaN   \n",
      "\n",
      "    stop_outcome is_arrested stop_duration  drugs_related_stop district  \n",
      "0       Citation       False      0-15 Min               False  Zone X4  \n",
      "1       Citation       False      0-15 Min               False  Zone K3  \n",
      "2       Citation       False      0-15 Min               False  Zone X4  \n",
      "3  Arrest Driver        True     16-30 Min               False  Zone X1  \n",
      "4       Citation       False      0-15 Min               False  Zone X3  \n",
      "state                     0\n",
      "stop_date                 0\n",
      "stop_time                 0\n",
      "county_name           91741\n",
      "driver_gender          5205\n",
      "driver_race            5202\n",
      "violation_raw          5202\n",
      "violation              5202\n",
      "search_conducted          0\n",
      "search_type           88434\n",
      "stop_outcome           5202\n",
      "is_arrested            5202\n",
      "stop_duration          5202\n",
      "drugs_related_stop        0\n",
      "district                  0\n",
      "dtype: int64\n"
     ]
    }
   ],
   "source": [
    "# Understand the data\n",
    "\n",
    "# Examine the head of the DataFrame\n",
    "print(police.head())\n",
    "\n",
    "# Count the number of missing values in each column\n",
    "print(police.isnull().sum())"
   ]
  },
  {
   "cell_type": "code",
   "execution_count": 4,
   "id": "c7013620",
   "metadata": {
    "execution": {
     "iopub.execute_input": "2021-12-13T09:46:41.612313Z",
     "iopub.status.busy": "2021-12-13T09:46:41.611682Z",
     "iopub.status.idle": "2021-12-13T09:46:41.641253Z",
     "shell.execute_reply": "2021-12-13T09:46:41.640710Z",
     "shell.execute_reply.started": "2021-12-13T09:16:26.259292Z"
    },
    "papermill": {
     "duration": 0.063041,
     "end_time": "2021-12-13T09:46:41.641398",
     "exception": false,
     "start_time": "2021-12-13T09:46:41.578357",
     "status": "completed"
    },
    "tags": []
   },
   "outputs": [
    {
     "name": "stdout",
     "output_type": "stream",
     "text": [
      "(91741, 15)\n",
      "(91741, 13)\n"
     ]
    }
   ],
   "source": [
    "# We have to dropped all those columns which are not useful for our analysis like county_name and state\n",
    "# county_name contains all missing values\n",
    "# state in our case is Rhode Island so we don't need it\n",
    "\n",
    "# Examine the shape of the DataFrame\n",
    "print(police.shape)\n",
    "\n",
    "# Drop the 'county_name' and 'state' columns\n",
    "police.drop(['county_name', 'state'], axis='columns', inplace=True)\n",
    "\n",
    "# Examine the shape of the DataFrame (again)\n",
    "print(police.shape)"
   ]
  },
  {
   "cell_type": "code",
   "execution_count": 5,
   "id": "d9822fc2",
   "metadata": {
    "execution": {
     "iopub.execute_input": "2021-12-13T09:46:41.709124Z",
     "iopub.status.busy": "2021-12-13T09:46:41.708144Z",
     "iopub.status.idle": "2021-12-13T09:46:41.945870Z",
     "shell.execute_reply": "2021-12-13T09:46:41.946493Z",
     "shell.execute_reply.started": "2021-12-13T09:16:26.283522Z"
    },
    "papermill": {
     "duration": 0.274007,
     "end_time": "2021-12-13T09:46:41.946700",
     "exception": false,
     "start_time": "2021-12-13T09:46:41.672693",
     "status": "completed"
    },
    "tags": []
   },
   "outputs": [
    {
     "name": "stdout",
     "output_type": "stream",
     "text": [
      "stop_date                 0\n",
      "stop_time                 0\n",
      "driver_gender          5205\n",
      "driver_race            5202\n",
      "violation_raw          5202\n",
      "violation              5202\n",
      "search_conducted          0\n",
      "search_type           88434\n",
      "stop_outcome           5202\n",
      "is_arrested            5202\n",
      "stop_duration          5202\n",
      "drugs_related_stop        0\n",
      "district                  0\n",
      "dtype: int64\n",
      "stop_date                 0\n",
      "stop_time                 0\n",
      "driver_gender             0\n",
      "driver_race               0\n",
      "violation_raw             0\n",
      "violation                 0\n",
      "search_conducted          0\n",
      "search_type           83229\n",
      "stop_outcome              0\n",
      "is_arrested               0\n",
      "stop_duration             0\n",
      "drugs_related_stop        0\n",
      "district                  0\n",
      "dtype: int64\n",
      "(86536, 13)\n"
     ]
    }
   ],
   "source": [
    "# Dataset have some specific columns which are important for our analysis, if there's a small no of \n",
    "# rows have missing values in it, it's oky to remove them.\n",
    "# driver_gender is a critical column for our analysis which contain some missing values so we drop\n",
    "# some of these rows\n",
    "\n",
    "# Count the number of missing values in each column\n",
    "print(police.isnull().sum())\n",
    "\n",
    "# Drop all rows that are missing 'driver_gender'\n",
    "police.dropna(subset=['driver_gender'], inplace=True)\n",
    "\n",
    "# Count the number of missing values in each column (again)\n",
    "print(police.isnull().sum())\n",
    "\n",
    "# Examine the shape of the DataFrame\n",
    "print(police.shape)"
   ]
  },
  {
   "cell_type": "code",
   "execution_count": 6,
   "id": "2b5813f7",
   "metadata": {
    "execution": {
     "iopub.execute_input": "2021-12-13T09:46:42.019871Z",
     "iopub.status.busy": "2021-12-13T09:46:42.019188Z",
     "iopub.status.idle": "2021-12-13T09:46:42.041904Z",
     "shell.execute_reply": "2021-12-13T09:46:42.041391Z",
     "shell.execute_reply.started": "2021-12-13T09:16:26.524662Z"
    },
    "papermill": {
     "duration": 0.063646,
     "end_time": "2021-12-13T09:46:42.042072",
     "exception": false,
     "start_time": "2021-12-13T09:46:41.978426",
     "status": "completed"
    },
    "tags": []
   },
   "outputs": [
    {
     "name": "stdout",
     "output_type": "stream",
     "text": [
      "stop_date             object\n",
      "stop_time             object\n",
      "driver_gender         object\n",
      "driver_race           object\n",
      "violation_raw         object\n",
      "violation             object\n",
      "search_conducted        bool\n",
      "search_type           object\n",
      "stop_outcome          object\n",
      "is_arrested           object\n",
      "stop_duration         object\n",
      "drugs_related_stop      bool\n",
      "district              object\n",
      "dtype: object\n",
      "0    False\n",
      "1    False\n",
      "2    False\n",
      "3     True\n",
      "4    False\n",
      "Name: is_arrested, dtype: object\n",
      "bool\n"
     ]
    }
   ],
   "source": [
    "# examine the datatype of each column\n",
    "print(police.dtypes)\n",
    "\n",
    "# we need to fix the datatype of is_arrested to bool\n",
    "# Examine the head of the 'is_arrested' column\n",
    "print(police.is_arrested.head())\n",
    "\n",
    "# Change the data type of 'is_arrested' to 'bool'\n",
    "police['is_arrested'] = police.is_arrested.astype('bool')\n",
    "\n",
    "# Check the data type of 'is_arrested' \n",
    "print(police['is_arrested'].dtype)"
   ]
  },
  {
   "cell_type": "code",
   "execution_count": 7,
   "id": "ab5b40af",
   "metadata": {
    "execution": {
     "iopub.execute_input": "2021-12-13T09:46:42.122698Z",
     "iopub.status.busy": "2021-12-13T09:46:42.122039Z",
     "iopub.status.idle": "2021-12-13T09:46:42.204016Z",
     "shell.execute_reply": "2021-12-13T09:46:42.203449Z",
     "shell.execute_reply.started": "2021-12-13T09:16:26.690530Z"
    },
    "papermill": {
     "duration": 0.129092,
     "end_time": "2021-12-13T09:46:42.204157",
     "exception": false,
     "start_time": "2021-12-13T09:46:42.075065",
     "status": "completed"
    },
    "tags": []
   },
   "outputs": [
    {
     "name": "stdout",
     "output_type": "stream",
     "text": [
      "stop_date                     object\n",
      "stop_time                     object\n",
      "driver_gender                 object\n",
      "driver_race                   object\n",
      "violation_raw                 object\n",
      "violation                     object\n",
      "search_conducted                bool\n",
      "search_type                   object\n",
      "stop_outcome                  object\n",
      "is_arrested                     bool\n",
      "stop_duration                 object\n",
      "drugs_related_stop              bool\n",
      "district                      object\n",
      "stop_datetime         datetime64[ns]\n",
      "dtype: object\n"
     ]
    }
   ],
   "source": [
    "# date and time of each traffic stop are present in different columns, we have to combine into a \n",
    "# single column called stop_datetime\n",
    "\n",
    "# Concatenate 'stop_date' and 'stop_time' (separated by a space)\n",
    "combined = police.stop_date.str.cat(police.stop_time, sep=' ')\n",
    "\n",
    "# Convert 'combined' to datetime format\n",
    "police['stop_datetime'] = pd.to_datetime(combined)\n",
    "\n",
    "# Examine the data types of the DataFrame\n",
    "print(police.dtypes)"
   ]
  },
  {
   "cell_type": "code",
   "execution_count": 8,
   "id": "e81264e1",
   "metadata": {
    "execution": {
     "iopub.execute_input": "2021-12-13T09:46:42.274019Z",
     "iopub.status.busy": "2021-12-13T09:46:42.273045Z",
     "iopub.status.idle": "2021-12-13T09:46:42.282488Z",
     "shell.execute_reply": "2021-12-13T09:46:42.281841Z",
     "shell.execute_reply.started": "2021-12-13T09:16:26.787243Z"
    },
    "papermill": {
     "duration": 0.045314,
     "end_time": "2021-12-13T09:46:42.282623",
     "exception": false,
     "start_time": "2021-12-13T09:46:42.237309",
     "status": "completed"
    },
    "tags": []
   },
   "outputs": [
    {
     "name": "stdout",
     "output_type": "stream",
     "text": [
      "DatetimeIndex(['2005-01-04 12:55:00', '2005-01-23 23:15:00',\n",
      "               '2005-02-17 04:15:00', '2005-02-20 17:15:00',\n",
      "               '2005-02-24 01:20:00', '2005-03-14 10:00:00',\n",
      "               '2005-03-29 21:55:00', '2005-04-04 21:25:00',\n",
      "               '2005-07-14 11:20:00', '2005-07-14 19:55:00',\n",
      "               ...\n",
      "               '2015-12-31 13:23:00', '2015-12-31 18:59:00',\n",
      "               '2015-12-31 19:13:00', '2015-12-31 20:20:00',\n",
      "               '2015-12-31 20:50:00', '2015-12-31 21:21:00',\n",
      "               '2015-12-31 21:59:00', '2015-12-31 22:04:00',\n",
      "               '2015-12-31 22:09:00', '2015-12-31 22:47:00'],\n",
      "              dtype='datetime64[ns]', name='stop_datetime', length=86536, freq=None)\n",
      "Index(['stop_date', 'stop_time', 'driver_gender', 'driver_race',\n",
      "       'violation_raw', 'violation', 'search_conducted', 'search_type',\n",
      "       'stop_outcome', 'is_arrested', 'stop_duration', 'drugs_related_stop',\n",
      "       'district'],\n",
      "      dtype='object')\n"
     ]
    }
   ],
   "source": [
    "# We will analyze our dataset mostly by date and time \n",
    "# so it's good to make stop_datetime dataframe index\n",
    "\n",
    "# Set 'stop_datetime' as the index\n",
    "police.set_index('stop_datetime', inplace=True)\n",
    "\n",
    "# Examine the index\n",
    "print(police.index)\n",
    "\n",
    "# Examine the columns\n",
    "print(police.columns)"
   ]
  },
  {
   "cell_type": "markdown",
   "id": "5cbb6909",
   "metadata": {
    "papermill": {
     "duration": 0.032641,
     "end_time": "2021-12-13T09:46:42.348243",
     "exception": false,
     "start_time": "2021-12-13T09:46:42.315602",
     "status": "completed"
    },
    "tags": []
   },
   "source": [
    "## 2. Identify relationship between gender and police\n",
    "Now that our dataset is clean, we are ready to analyze our data and try to answer the question \n",
    "Does gender of a driver have differnet influence of police behavior on decisions during traffic stop?"
   ]
  },
  {
   "cell_type": "code",
   "execution_count": 9,
   "id": "56e5cca8",
   "metadata": {
    "execution": {
     "iopub.execute_input": "2021-12-13T09:46:42.418869Z",
     "iopub.status.busy": "2021-12-13T09:46:42.417891Z",
     "iopub.status.idle": "2021-12-13T09:46:42.452434Z",
     "shell.execute_reply": "2021-12-13T09:46:42.451016Z",
     "shell.execute_reply.started": "2021-12-13T09:16:26.801298Z"
    },
    "papermill": {
     "duration": 0.070945,
     "end_time": "2021-12-13T09:46:42.452623",
     "exception": false,
     "start_time": "2021-12-13T09:46:42.381678",
     "status": "completed"
    },
    "tags": []
   },
   "outputs": [
    {
     "name": "stdout",
     "output_type": "stream",
     "text": [
      "Speeding               48423\n",
      "Moving violation       16224\n",
      "Equipment              10921\n",
      "Other                   4409\n",
      "Registration/plates     3703\n",
      "Seat belt               2856\n",
      "Name: violation, dtype: int64\n",
      "Speeding               0.559571\n",
      "Moving violation       0.187483\n",
      "Equipment              0.126202\n",
      "Other                  0.050950\n",
      "Registration/plates    0.042791\n",
      "Seat belt              0.033004\n",
      "Name: violation, dtype: float64\n"
     ]
    }
   ],
   "source": [
    "# Analyze violation committed by all drivers\n",
    "\n",
    "# Count the unique values in 'violation'\n",
    "print(police.violation.value_counts())\n",
    "\n",
    "# Express the counts as proportions\n",
    "print(police.violation.value_counts(normalize=True))"
   ]
  },
  {
   "cell_type": "code",
   "execution_count": 10,
   "id": "058d4747",
   "metadata": {
    "execution": {
     "iopub.execute_input": "2021-12-13T09:46:42.540897Z",
     "iopub.status.busy": "2021-12-13T09:46:42.539676Z",
     "iopub.status.idle": "2021-12-13T09:46:42.597857Z",
     "shell.execute_reply": "2021-12-13T09:46:42.598516Z",
     "shell.execute_reply.started": "2021-12-13T09:16:26.841263Z"
    },
    "papermill": {
     "duration": 0.112124,
     "end_time": "2021-12-13T09:46:42.598683",
     "exception": false,
     "start_time": "2021-12-13T09:46:42.486559",
     "status": "completed"
    },
    "tags": []
   },
   "outputs": [
    {
     "name": "stdout",
     "output_type": "stream",
     "text": [
      "Female violations: \n",
      "Speeding               0.658114\n",
      "Moving violation       0.138218\n",
      "Equipment              0.105199\n",
      "Registration/plates    0.044418\n",
      "Other                  0.029738\n",
      "Seat belt              0.024312\n",
      "Name: violation, dtype: float64\n",
      "Male violations: \n",
      "Speeding               0.522243\n",
      "Moving violation       0.206144\n",
      "Equipment              0.134158\n",
      "Other                  0.058985\n",
      "Registration/plates    0.042175\n",
      "Seat belt              0.036296\n",
      "Name: violation, dtype: float64\n"
     ]
    }
   ],
   "source": [
    "# Analyze different gender committed different violations\n",
    "\n",
    "# Create a DataFrame of female drivers\n",
    "female = police[police['driver_gender'] == 'F']\n",
    "\n",
    "# Create a DataFrame of male drivers\n",
    "male = police[police['driver_gender'] == 'M']\n",
    "\n",
    "# Compute the violations by female drivers (as proportions)\n",
    "print('Female violations: \\n{}'.format(female['violation'].value_counts(normalize=True)))\n",
    "\n",
    "# Compute the violations by male drivers (as proportions)\n",
    "print('Male violations: \\n{}'.format(male['violation'].value_counts(normalize=True)))"
   ]
  },
  {
   "cell_type": "code",
   "execution_count": 11,
   "id": "062e01b2",
   "metadata": {
    "execution": {
     "iopub.execute_input": "2021-12-13T09:46:42.669510Z",
     "iopub.status.busy": "2021-12-13T09:46:42.668882Z",
     "iopub.status.idle": "2021-12-13T09:46:42.747583Z",
     "shell.execute_reply": "2021-12-13T09:46:42.748331Z",
     "shell.execute_reply.started": "2021-12-13T09:16:26.911670Z"
    },
    "papermill": {
     "duration": 0.1161,
     "end_time": "2021-12-13T09:46:42.748525",
     "exception": false,
     "start_time": "2021-12-13T09:46:42.632425",
     "status": "completed"
    },
    "tags": []
   },
   "outputs": [
    {
     "name": "stdout",
     "output_type": "stream",
     "text": [
      "Female stop_outcome: \n",
      "Citation            0.952192\n",
      "Warning             0.040074\n",
      "Arrest Driver       0.005752\n",
      "N/D                 0.000959\n",
      "Arrest Passenger    0.000639\n",
      "No Action           0.000383\n",
      "Name: stop_outcome, dtype: float64\n",
      "Male stop_outcome: \n",
      "Citation            0.944595\n",
      "Warning             0.036184\n",
      "Arrest Driver       0.015895\n",
      "Arrest Passenger    0.001281\n",
      "No Action           0.001068\n",
      "N/D                 0.000976\n",
      "Name: stop_outcome, dtype: float64\n"
     ]
    }
   ],
   "source": [
    "# Does gender has an impact of receiving a ticket and warning of over speeding when they pulled over?\n",
    "\n",
    "# Create a DataFrame of female drivers stopped for speeding\n",
    "female_and_speeding = police[(police.driver_gender == 'F') & (police.violation == 'Speeding')]\n",
    "\n",
    "# Create a DataFrame of male drivers stopped for speeding\n",
    "male_and_speeding = police[(police.driver_gender == 'M') & (police.violation == 'Speeding')]\n",
    "\n",
    "# Compute the stop outcomes for female drivers (as proportions)\n",
    "print('Female stop_outcome: \\n{}'.format(female_and_speeding.stop_outcome.value_counts(normalize=True)))\n",
    "\n",
    "# Compute the stop outcomes for male drivers (as proportions)\n",
    "print('Male stop_outcome: \\n{}'.format(male_and_speeding.stop_outcome.value_counts(normalize=True)))\n"
   ]
  },
  {
   "cell_type": "code",
   "execution_count": 12,
   "id": "cd02113f",
   "metadata": {
    "execution": {
     "iopub.execute_input": "2021-12-13T09:46:42.820898Z",
     "iopub.status.busy": "2021-12-13T09:46:42.819891Z",
     "iopub.status.idle": "2021-12-13T09:46:42.829877Z",
     "shell.execute_reply": "2021-12-13T09:46:42.830420Z",
     "shell.execute_reply.started": "2021-12-13T09:16:26.995991Z"
    },
    "papermill": {
     "duration": 0.047951,
     "end_time": "2021-12-13T09:46:42.830591",
     "exception": false,
     "start_time": "2021-12-13T09:46:42.782640",
     "status": "completed"
    },
    "tags": []
   },
   "outputs": [
    {
     "name": "stdout",
     "output_type": "stream",
     "text": [
      "bool\n",
      "False    0.961785\n",
      "True     0.038215\n",
      "Name: search_conducted, dtype: float64\n",
      "0.0382153092354627\n"
     ]
    }
   ],
   "source": [
    "# Calculate the search rate (police search vehicles when needed)\n",
    "\n",
    "# Check the data type of 'search_conducted'\n",
    "print(police.search_conducted.dtype)\n",
    "\n",
    "# Calculate the search rate by counting the values\n",
    "print(police.search_conducted.value_counts(normalize=True))\n",
    "\n",
    "# Calculate the search rate by taking the mean\n",
    "print(police.search_conducted.mean())"
   ]
  },
  {
   "cell_type": "code",
   "execution_count": 13,
   "id": "df0130ed",
   "metadata": {
    "execution": {
     "iopub.execute_input": "2021-12-13T09:46:42.904496Z",
     "iopub.status.busy": "2021-12-13T09:46:42.903472Z",
     "iopub.status.idle": "2021-12-13T09:46:42.922645Z",
     "shell.execute_reply": "2021-12-13T09:46:42.921780Z",
     "shell.execute_reply.started": "2021-12-13T09:16:27.007879Z"
    },
    "papermill": {
     "duration": 0.057973,
     "end_time": "2021-12-13T09:46:42.922825",
     "exception": false,
     "start_time": "2021-12-13T09:46:42.864852",
     "status": "completed"
    },
    "tags": []
   },
   "outputs": [
    {
     "name": "stdout",
     "output_type": "stream",
     "text": [
      "driver_gender\n",
      "F    0.019181\n",
      "M    0.045426\n",
      "Name: search_conducted, dtype: float64\n"
     ]
    }
   ],
   "source": [
    "# Only 3.8% police conduct searches on vehicles, now we need to know how gender impact on search rate\n",
    "\n",
    "# Calculate the search rate for both groups simultaneously\n",
    "print(police.groupby('driver_gender').search_conducted.mean())"
   ]
  },
  {
   "cell_type": "code",
   "execution_count": 14,
   "id": "c353a2fd",
   "metadata": {
    "execution": {
     "iopub.execute_input": "2021-12-13T09:46:43.001944Z",
     "iopub.status.busy": "2021-12-13T09:46:43.001023Z",
     "iopub.status.idle": "2021-12-13T09:46:43.047175Z",
     "shell.execute_reply": "2021-12-13T09:46:43.046660Z",
     "shell.execute_reply.started": "2021-12-13T09:16:27.037574Z"
    },
    "papermill": {
     "duration": 0.088381,
     "end_time": "2021-12-13T09:46:43.047325",
     "exception": false,
     "start_time": "2021-12-13T09:46:42.958944",
     "status": "completed"
    },
    "tags": []
   },
   "outputs": [
    {
     "name": "stdout",
     "output_type": "stream",
     "text": [
      "driver_gender  violation          \n",
      "F              Equipment              0.039984\n",
      "               Moving violation       0.039257\n",
      "               Other                  0.041018\n",
      "               Registration/plates    0.054924\n",
      "               Seat belt              0.017301\n",
      "               Speeding               0.008309\n",
      "M              Equipment              0.071496\n",
      "               Moving violation       0.061524\n",
      "               Other                  0.046191\n",
      "               Registration/plates    0.108802\n",
      "               Seat belt              0.035119\n",
      "               Speeding               0.027885\n",
      "Name: search_conducted, dtype: float64\n",
      "\n",
      "----------------------------\n",
      "\n",
      "violation            driver_gender\n",
      "Equipment            F                0.039984\n",
      "                     M                0.071496\n",
      "Moving violation     F                0.039257\n",
      "                     M                0.061524\n",
      "Other                F                0.041018\n",
      "                     M                0.046191\n",
      "Registration/plates  F                0.054924\n",
      "                     M                0.108802\n",
      "Seat belt            F                0.017301\n",
      "                     M                0.035119\n",
      "Speeding             F                0.008309\n",
      "                     M                0.027885\n",
      "Name: search_conducted, dtype: float64\n"
     ]
    }
   ],
   "source": [
    "# Police conduct seaches on mostly males drivers but it also depend on different factors like \n",
    "# violation type, now we analyze how police conduct searches based on different violations by gender\n",
    "\n",
    "# Calculate the search rate for each combination of gender and violation\n",
    "print(police.groupby(['driver_gender', 'violation']).search_conducted.mean())\n",
    "print('\\n----------------------------\\n')\n",
    "# Reverse the ordering to group by violation before gender\n",
    "print(police.groupby(['violation', 'driver_gender']).search_conducted.mean())"
   ]
  },
  {
   "cell_type": "code",
   "execution_count": 15,
   "id": "8eb0d301",
   "metadata": {
    "execution": {
     "iopub.execute_input": "2021-12-13T09:46:43.164376Z",
     "iopub.status.busy": "2021-12-13T09:46:43.144137Z",
     "iopub.status.idle": "2021-12-13T09:46:43.177302Z",
     "shell.execute_reply": "2021-12-13T09:46:43.177824Z",
     "shell.execute_reply.started": "2021-12-13T09:16:27.088762Z"
    },
    "papermill": {
     "duration": 0.094882,
     "end_time": "2021-12-13T09:46:43.178021",
     "exception": false,
     "start_time": "2021-12-13T09:46:43.083139",
     "status": "completed"
    },
    "tags": []
   },
   "outputs": [
    {
     "name": "stdout",
     "output_type": "stream",
     "text": [
      "Incident to Arrest                                          1290\n",
      "Probable Cause                                               924\n",
      "Inventory                                                    219\n",
      "Reasonable Suspicion                                         214\n",
      "Protective Frisk                                             164\n",
      "Incident to Arrest,Inventory                                 123\n",
      "Incident to Arrest,Probable Cause                            100\n",
      "Probable Cause,Reasonable Suspicion                           54\n",
      "Incident to Arrest,Inventory,Probable Cause                   35\n",
      "Probable Cause,Protective Frisk                               35\n",
      "Incident to Arrest,Protective Frisk                           33\n",
      "Inventory,Probable Cause                                      25\n",
      "Protective Frisk,Reasonable Suspicion                         19\n",
      "Incident to Arrest,Inventory,Protective Frisk                 18\n",
      "Incident to Arrest,Probable Cause,Protective Frisk            13\n",
      "Inventory,Protective Frisk                                    12\n",
      "Incident to Arrest,Reasonable Suspicion                        8\n",
      "Probable Cause,Protective Frisk,Reasonable Suspicion           5\n",
      "Incident to Arrest,Probable Cause,Reasonable Suspicion         5\n",
      "Incident to Arrest,Inventory,Reasonable Suspicion              4\n",
      "Incident to Arrest,Protective Frisk,Reasonable Suspicion       2\n",
      "Inventory,Reasonable Suspicion                                 2\n",
      "Inventory,Protective Frisk,Reasonable Suspicion                1\n",
      "Inventory,Probable Cause,Reasonable Suspicion                  1\n",
      "Inventory,Probable Cause,Protective Frisk                      1\n",
      "Name: search_type, dtype: int64\n",
      "bool\n",
      "303\n"
     ]
    }
   ],
   "source": [
    "# We need to find out how many drivers have protective frisk search (frisk is when a person is\n",
    "# investigate for having a weapon)\n",
    "\n",
    "# Count the 'search_type' values\n",
    "print(police['search_type'].value_counts())\n",
    "\n",
    "# Check if 'search_type' contains the string 'Protective Frisk'\n",
    "police['frisk'] = police.search_type.str.contains('Protective Frisk', na=False)\n",
    "\n",
    "# Check the data type of 'frisk'\n",
    "print(police.frisk.dtype)\n",
    "\n",
    "# Take the sum of 'frisk'\n",
    "print(police.frisk.sum())"
   ]
  },
  {
   "cell_type": "code",
   "execution_count": 16,
   "id": "6aba4fee",
   "metadata": {
    "execution": {
     "iopub.execute_input": "2021-12-13T09:46:43.259478Z",
     "iopub.status.busy": "2021-12-13T09:46:43.258755Z",
     "iopub.status.idle": "2021-12-13T09:46:43.262935Z",
     "shell.execute_reply": "2021-12-13T09:46:43.263468Z",
     "shell.execute_reply.started": "2021-12-13T09:16:27.140865Z"
    },
    "papermill": {
     "duration": 0.049686,
     "end_time": "2021-12-13T09:46:43.263626",
     "exception": false,
     "start_time": "2021-12-13T09:46:43.213940",
     "status": "completed"
    },
    "tags": []
   },
   "outputs": [
    {
     "name": "stdout",
     "output_type": "stream",
     "text": [
      "0.09162382824312065\n",
      "driver_gender\n",
      "F    0.074561\n",
      "M    0.094353\n",
      "Name: frisk, dtype: float64\n"
     ]
    }
   ],
   "source": [
    "# Now compare the frisk rates with the gender\n",
    "\n",
    "# Create a DataFrame of stops in which a search was conducted\n",
    "searched = police[police.search_conducted == True]\n",
    "\n",
    "# Calculate the overall frisk rate by taking the mean of 'frisk'\n",
    "print(searched.frisk.mean())\n",
    "\n",
    "# Calculate the frisk rate for each gender\n",
    "print(searched.groupby('driver_gender').frisk.mean())"
   ]
  },
  {
   "cell_type": "markdown",
   "id": "50b618c7",
   "metadata": {
    "papermill": {
     "duration": 0.036041,
     "end_time": "2021-12-13T09:46:43.336090",
     "exception": false,
     "start_time": "2021-12-13T09:46:43.300049",
     "status": "completed"
    },
    "tags": []
   },
   "source": [
    "## 3. Visual exploratory data analysis\n",
    "Now, we identify the trend visually and try to find out the relation between time of day and driver arrested, also answer questions like Are drugs stop on the rise of day."
   ]
  },
  {
   "cell_type": "code",
   "execution_count": 17,
   "id": "cd97e6f5",
   "metadata": {
    "execution": {
     "iopub.execute_input": "2021-12-13T09:46:43.412410Z",
     "iopub.status.busy": "2021-12-13T09:46:43.411753Z",
     "iopub.status.idle": "2021-12-13T09:46:43.440535Z",
     "shell.execute_reply": "2021-12-13T09:46:43.441135Z",
     "shell.execute_reply.started": "2021-12-13T09:16:27.156024Z"
    },
    "papermill": {
     "duration": 0.068668,
     "end_time": "2021-12-13T09:46:43.441326",
     "exception": false,
     "start_time": "2021-12-13T09:46:43.372658",
     "status": "completed"
    },
    "tags": []
   },
   "outputs": [
    {
     "name": "stdout",
     "output_type": "stream",
     "text": [
      "0.0355690117407784\n",
      "stop_datetime\n",
      "0     0.051431\n",
      "1     0.064932\n",
      "2     0.060798\n",
      "3     0.060549\n",
      "4     0.048000\n",
      "5     0.042781\n",
      "6     0.013813\n",
      "7     0.013032\n",
      "8     0.021854\n",
      "9     0.025206\n",
      "10    0.028213\n",
      "11    0.028897\n",
      "12    0.037399\n",
      "13    0.030776\n",
      "14    0.030605\n",
      "15    0.030679\n",
      "16    0.035281\n",
      "17    0.040619\n",
      "18    0.038204\n",
      "19    0.032245\n",
      "20    0.038107\n",
      "21    0.064541\n",
      "22    0.048666\n",
      "23    0.047592\n",
      "Name: is_arrested, dtype: float64\n"
     ]
    }
   ],
   "source": [
    "# We need to calculate the arrest rate and also the arrest rate per hour\n",
    "\n",
    "# Calculate the overall arrest rate\n",
    "print(police.is_arrested.mean())\n",
    "\n",
    "# Calculate the hourly arrest rate\n",
    "print(police.groupby(police.index.hour).is_arrested.mean())\n",
    "\n",
    "# Save the hourly arrest rate\n",
    "hourly_arrest_rate = police.groupby(police.index.hour).is_arrested.mean()"
   ]
  },
  {
   "cell_type": "code",
   "execution_count": 18,
   "id": "1438477b",
   "metadata": {
    "execution": {
     "iopub.execute_input": "2021-12-13T09:46:43.518624Z",
     "iopub.status.busy": "2021-12-13T09:46:43.517925Z",
     "iopub.status.idle": "2021-12-13T09:46:43.733879Z",
     "shell.execute_reply": "2021-12-13T09:46:43.734398Z",
     "shell.execute_reply.started": "2021-12-13T09:16:27.188152Z"
    },
    "papermill": {
     "duration": 0.256508,
     "end_time": "2021-12-13T09:46:43.734567",
     "exception": false,
     "start_time": "2021-12-13T09:46:43.478059",
     "status": "completed"
    },
    "tags": []
   },
   "outputs": [
    {
     "data": {
      "image/png": "[encoded data removed]",
      "text/plain": [
       "<Figure size 432x288 with 1 Axes>"
      ]
     },
     "metadata": {
      "needs_background": "light"
     },
     "output_type": "display_data"
    }
   ],
   "source": [
    "# Create an line plot to identify the trend arrest_rate per hour\n",
    "\n",
    "# Create a line plot of 'hourly_arrest_rate'\n",
    "plt.plot(hourly_arrest_rate)\n",
    "\n",
    "# Add the xlabel, ylabel, and title\n",
    "plt.xlabel('Hour')\n",
    "plt.ylabel('Arrest Rate')\n",
    "plt.title('Arrest Rate by Time of Day')\n",
    "\n",
    "# Display the plot\n",
    "plt.show()"
   ]
  },
  {
   "cell_type": "code",
   "execution_count": 19,
   "id": "4ff88205",
   "metadata": {
    "execution": {
     "iopub.execute_input": "2021-12-13T09:46:43.816274Z",
     "iopub.status.busy": "2021-12-13T09:46:43.815290Z",
     "iopub.status.idle": "2021-12-13T09:46:44.179067Z",
     "shell.execute_reply": "2021-12-13T09:46:44.179542Z",
     "shell.execute_reply.started": "2021-12-13T09:16:27.378132Z"
    },
    "papermill": {
     "duration": 0.407505,
     "end_time": "2021-12-13T09:46:44.179731",
     "exception": false,
     "start_time": "2021-12-13T09:46:43.772226",
     "status": "completed"
    },
    "tags": []
   },
   "outputs": [
    {
     "name": "stdout",
     "output_type": "stream",
     "text": [
      "stop_datetime\n",
      "2005-12-31    0.006501\n",
      "2006-12-31    0.007258\n",
      "2007-12-31    0.007970\n",
      "2008-12-31    0.007505\n",
      "2009-12-31    0.009889\n",
      "2010-12-31    0.010081\n",
      "2011-12-31    0.009731\n",
      "2012-12-31    0.009921\n",
      "2013-12-31    0.013094\n",
      "2014-12-31    0.013826\n",
      "2015-12-31    0.012266\n",
      "Freq: A-DEC, Name: drugs_related_stop, dtype: float64\n"
     ]
    },
    {
     "data": {
      "image/png": "[encoded data removed]",
      "text/plain": [
       "<Figure size 432x288 with 1 Axes>"
      ]
     },
     "metadata": {
      "needs_background": "light"
     },
     "output_type": "display_data"
    }
   ],
   "source": [
    "# Now we want to identify the trend how drug related stop change over time\n",
    "#() drugs_related_stop: boolean when police stops you for searching drugs in a vehicle)\n",
    "    \n",
    "# Calculate the annual rate of drug-related stops\n",
    "print(police.drugs_related_stop.resample('A').mean())\n",
    "\n",
    "# Save the annual rate of drug-related stops\n",
    "annual_drug_rate = police.drugs_related_stop.resample('A').mean()\n",
    "\n",
    "# Create a line plot of 'annual_drug_rate'\n",
    "plt.plot(annual_drug_rate)\n",
    "\n",
    "# Display the plot\n",
    "plt.show()"
   ]
  },
  {
   "cell_type": "code",
   "execution_count": 20,
   "id": "4be77c7e",
   "metadata": {
    "execution": {
     "iopub.execute_input": "2021-12-13T09:46:44.261508Z",
     "iopub.status.busy": "2021-12-13T09:46:44.260876Z",
     "iopub.status.idle": "2021-12-13T09:46:44.551656Z",
     "shell.execute_reply": "2021-12-13T09:46:44.551018Z",
     "shell.execute_reply.started": "2021-12-13T09:16:27.658065Z"
    },
    "papermill": {
     "duration": 0.333279,
     "end_time": "2021-12-13T09:46:44.551789",
     "exception": false,
     "start_time": "2021-12-13T09:46:44.218510",
     "status": "completed"
    },
    "tags": []
   },
   "outputs": [
    {
     "data": {
      "image/png": "[encoded data removed]",
      "text/plain": [
       "<Figure size 432x288 with 2 Axes>"
      ]
     },
     "metadata": {
      "needs_background": "light"
     },
     "output_type": "display_data"
    }
   ],
   "source": [
    "# As you can see it increases over 10 periods of time, now we want to check how it relates to searches\n",
    "# conducted \n",
    "\n",
    "# Calculate and save the annual search rate\n",
    "annual_search_rate = police.search_conducted.resample('A').mean()\n",
    "\n",
    "# Concatenate 'annual_drug_rate' and 'annual_search_rate'\n",
    "annual = pd.concat([annual_drug_rate, annual_search_rate], axis='columns')\n",
    "\n",
    "# Create subplots from 'annual'\n",
    "annual.plot(subplots=True)\n",
    "\n",
    "# Display the subplots\n",
    "plt.show()"
   ]
  },
  {
   "cell_type": "code",
   "execution_count": 21,
   "id": "885b154f",
   "metadata": {
    "execution": {
     "iopub.execute_input": "2021-12-13T09:46:44.638924Z",
     "iopub.status.busy": "2021-12-13T09:46:44.637945Z",
     "iopub.status.idle": "2021-12-13T09:46:44.714911Z",
     "shell.execute_reply": "2021-12-13T09:46:44.714375Z",
     "shell.execute_reply.started": "2021-12-13T09:16:27.994427Z"
    },
    "papermill": {
     "duration": 0.123603,
     "end_time": "2021-12-13T09:46:44.715100",
     "exception": false,
     "start_time": "2021-12-13T09:46:44.591497",
     "status": "completed"
    },
    "tags": []
   },
   "outputs": [
    {
     "name": "stdout",
     "output_type": "stream",
     "text": [
      "violation  Equipment  Moving violation  Other  Registration/plates  Seat belt  \\\n",
      "district                                                                        \n",
      "Zone K1          672              1254    290                  120          0   \n",
      "Zone K2         2061              2962    942                  768        481   \n",
      "Zone K3         2302              2898    705                  695        638   \n",
      "Zone X1          296               671    143                   38         74   \n",
      "Zone X3         2049              3086    769                  671        820   \n",
      "Zone X4         3541              5353   1560                 1411        843   \n",
      "\n",
      "violation  Speeding  \n",
      "district             \n",
      "Zone K1        5960  \n",
      "Zone K2       10448  \n",
      "Zone K3       12322  \n",
      "Zone X1        1119  \n",
      "Zone X3        8779  \n",
      "Zone X4        9795  \n",
      "violation  Equipment  Moving violation  Other  Registration/plates  Seat belt  \\\n",
      "district                                                                        \n",
      "Zone K1          672              1254    290                  120          0   \n",
      "Zone K2         2061              2962    942                  768        481   \n",
      "Zone K3         2302              2898    705                  695        638   \n",
      "\n",
      "violation  Speeding  \n",
      "district             \n",
      "Zone K1        5960  \n",
      "Zone K2       10448  \n",
      "Zone K3       12322  \n"
     ]
    }
   ],
   "source": [
    "# We want to identify the trend between violations caught by police in different zones.\n",
    "\n",
    "# Create a frequency table of districts and violations\n",
    "print(pd.crosstab(police.district, police.violation))\n",
    "\n",
    "# Save the frequency table as 'all_zones'\n",
    "all_zones = pd.crosstab(police.district, police.violation)\n",
    "\n",
    "# Select rows 'Zone K1' through 'Zone K3'\n",
    "print(all_zones.loc['Zone K1': 'Zone K3'])\n",
    "\n",
    "# Save the smaller table as 'k_zones'\n",
    "k_zones = all_zones.loc['Zone K1': 'Zone K3']"
   ]
  },
  {
   "cell_type": "code",
   "execution_count": 22,
   "id": "75f1c80d",
   "metadata": {
    "execution": {
     "iopub.execute_input": "2021-12-13T09:46:44.799038Z",
     "iopub.status.busy": "2021-12-13T09:46:44.798345Z",
     "iopub.status.idle": "2021-12-13T09:46:45.308018Z",
     "shell.execute_reply": "2021-12-13T09:46:45.308494Z",
     "shell.execute_reply.started": "2021-12-13T09:16:28.072416Z"
    },
    "papermill": {
     "duration": 0.552934,
     "end_time": "2021-12-13T09:46:45.308676",
     "exception": false,
     "start_time": "2021-12-13T09:46:44.755742",
     "status": "completed"
    },
    "tags": []
   },
   "outputs": [
    {
     "data": {
      "image/png": "[encoded data removed]",
      "text/plain": [
       "<Figure size 432x288 with 1 Axes>"
      ]
     },
     "metadata": {
      "needs_background": "light"
     },
     "output_type": "display_data"
    },
    {
     "data": {
      "image/png": "[encoded data removed]",
      "text/plain": [
       "<Figure size 432x288 with 1 Axes>"
      ]
     },
     "metadata": {
      "needs_background": "light"
     },
     "output_type": "display_data"
    }
   ],
   "source": [
    "# Now we create an visualization which compare Zone k with different violations\n",
    "\n",
    "# Create a bar plot of 'k_zones'\n",
    "k_zones.plot(kind='bar')\n",
    "\n",
    "# Display the plot\n",
    "plt.show()\n",
    "\n",
    "# Create a stacked bar plot of 'k_zones'\n",
    "k_zones.plot(kind='bar', stacked=True)\n",
    "\n",
    "# Display the plot\n",
    "plt.show()"
   ]
  },
  {
   "cell_type": "code",
   "execution_count": 23,
   "id": "1512f845",
   "metadata": {
    "execution": {
     "iopub.execute_input": "2021-12-13T09:46:45.397325Z",
     "iopub.status.busy": "2021-12-13T09:46:45.396682Z",
     "iopub.status.idle": "2021-12-13T09:46:45.423242Z",
     "shell.execute_reply": "2021-12-13T09:46:45.423733Z",
     "shell.execute_reply.started": "2021-12-13T09:16:28.597659Z"
    },
    "papermill": {
     "duration": 0.073005,
     "end_time": "2021-12-13T09:46:45.423910",
     "exception": false,
     "start_time": "2021-12-13T09:46:45.350905",
     "status": "completed"
    },
    "tags": []
   },
   "outputs": [
    {
     "name": "stdout",
     "output_type": "stream",
     "text": [
      "['0-15 Min' '16-30 Min' '30+ Min']\n",
      "[ 8 23 45]\n"
     ]
    }
   ],
   "source": [
    "# Convert stop_duration to number for analyze data more efficent\n",
    "# (stop_duration tells how much time police stops a driver)\n",
    "# This is in a format of strings like '0-15 min'so we need to map it to numbers for \n",
    "# better understanding of data\n",
    "\n",
    "# Print the unique values in 'stop_duration'\n",
    "print(police.stop_duration.unique())\n",
    "\n",
    "# Create a dictionary that maps strings to integers\n",
    "mapping = {'0-15 Min': 8, '16-30 Min': 23, '30+ Min': 45}\n",
    "\n",
    "# Convert the 'stop_duration' strings to integers using the 'mapping'\n",
    "police['stop_minutes'] = police.stop_duration.map(mapping)\n",
    "\n",
    "# Print the unique values in 'stop_minutes'\n",
    "print(police.stop_minutes.unique())"
   ]
  },
  {
   "cell_type": "code",
   "execution_count": 24,
   "id": "0991a3bd",
   "metadata": {
    "execution": {
     "iopub.execute_input": "2021-12-13T09:46:45.521042Z",
     "iopub.status.busy": "2021-12-13T09:46:45.520367Z",
     "iopub.status.idle": "2021-12-13T09:46:45.765550Z",
     "shell.execute_reply": "2021-12-13T09:46:45.766021Z",
     "shell.execute_reply.started": "2021-12-13T09:16:28.625241Z"
    },
    "papermill": {
     "duration": 0.299912,
     "end_time": "2021-12-13T09:46:45.766195",
     "exception": false,
     "start_time": "2021-12-13T09:46:45.466283",
     "status": "completed"
    },
    "tags": []
   },
   "outputs": [
    {
     "name": "stdout",
     "output_type": "stream",
     "text": [
      "violation_raw\n",
      "APB                                 17.967033\n",
      "Call for Service                    22.124371\n",
      "Equipment/Inspection Violation      11.445655\n",
      "Motorist Assist/Courtesy            17.741463\n",
      "Other Traffic Violation             13.844490\n",
      "Registration Violation              13.736970\n",
      "Seatbelt Violation                   9.662815\n",
      "Special Detail/Directed Patrol      15.123632\n",
      "Speeding                            10.581562\n",
      "Suspicious Person                   14.910714\n",
      "Violation of City/Town Ordinance    13.254144\n",
      "Warrant                             24.055556\n",
      "Name: stop_minutes, dtype: float64\n",
      "\n",
      "-----------------------------------------------------\n",
      "\n"
     ]
    },
    {
     "data": {
      "image/png": "[encoded data removed]",
      "text/plain": [
       "<Figure size 432x288 with 1 Axes>"
      ]
     },
     "metadata": {
      "needs_background": "light"
     },
     "output_type": "display_data"
    }
   ],
   "source": [
    "# visualize stop_minutes to see the trend for each violation\n",
    "\n",
    "# Calculate the mean 'stop_minutes' for each value in 'violation_raw'\n",
    "print(police.groupby('violation_raw').stop_minutes.mean())\n",
    "\n",
    "# Save the resulting Series as 'stop_length'\n",
    "stop_length = police.groupby('violation_raw').stop_minutes.mean()\n",
    "print('\\n-----------------------------------------------------\\n')\n",
    "# Sort 'stop_length' by its values and create a horizontal bar plot\n",
    "stop_length.sort_values().plot(kind='barh')\n",
    "\n",
    "# Display the plot\n",
    "plt.show()"
   ]
  },
  {
   "cell_type": "markdown",
   "id": "d9cc184f",
   "metadata": {
    "papermill": {
     "duration": 0.043213,
     "end_time": "2021-12-13T09:46:45.852792",
     "exception": false,
     "start_time": "2021-12-13T09:46:45.809579",
     "status": "completed"
    },
    "tags": []
   },
   "source": [
    "## 4. Analyze the effect of weather on police\n",
    "Now we want to explore data in a way how police behavior change on different weather conditions during traffic stop."
   ]
  },
  {
   "cell_type": "code",
   "execution_count": 25,
   "id": "98bd5b58",
   "metadata": {
    "execution": {
     "iopub.execute_input": "2021-12-13T09:46:45.943300Z",
     "iopub.status.busy": "2021-12-13T09:46:45.942653Z",
     "iopub.status.idle": "2021-12-13T09:46:46.144944Z",
     "shell.execute_reply": "2021-12-13T09:46:46.145428Z",
     "shell.execute_reply.started": "2021-12-13T09:16:28.903076Z"
    },
    "papermill": {
     "duration": 0.249427,
     "end_time": "2021-12-13T09:46:46.145600",
     "exception": false,
     "start_time": "2021-12-13T09:46:45.896173",
     "status": "completed"
    },
    "tags": []
   },
   "outputs": [
    {
     "name": "stdout",
     "output_type": "stream",
     "text": [
      "              TMIN         TAVG         TMAX\n",
      "count  4017.000000  1217.000000  4017.000000\n",
      "mean     43.484441    52.493016    61.268608\n",
      "std      17.020298    17.830714    18.199517\n",
      "min      -5.000000     6.000000    15.000000\n",
      "25%      30.000000    39.000000    47.000000\n",
      "50%      44.000000    54.000000    62.000000\n",
      "75%      58.000000    68.000000    77.000000\n",
      "max      77.000000    86.000000   102.000000\n"
     ]
    },
    {
     "data": {
      "image/png": "[encoded data removed]",
      "text/plain": [
       "<Figure size 432x288 with 1 Axes>"
      ]
     },
     "metadata": {
      "needs_background": "light"
     },
     "output_type": "display_data"
    }
   ],
   "source": [
    "# First we will examine the temperature column to check our dataset is reliable or not\n",
    "\n",
    "# Describe the temperature columns\n",
    "print(weather[['TMIN', 'TAVG', 'TMAX']].describe())\n",
    "\n",
    "# Create a box plot of the temperature columns\n",
    "weather[['TMIN', 'TAVG', 'TMAX']].plot(kind='box')\n",
    "\n",
    "# Display the plot\n",
    "plt.show()"
   ]
  },
  {
   "cell_type": "code",
   "execution_count": 26,
   "id": "52739c48",
   "metadata": {
    "execution": {
     "iopub.execute_input": "2021-12-13T09:46:46.237949Z",
     "iopub.status.busy": "2021-12-13T09:46:46.237330Z",
     "iopub.status.idle": "2021-12-13T09:46:46.459403Z",
     "shell.execute_reply": "2021-12-13T09:46:46.458847Z",
     "shell.execute_reply.started": "2021-12-13T09:16:29.119930Z"
    },
    "papermill": {
     "duration": 0.269363,
     "end_time": "2021-12-13T09:46:46.459550",
     "exception": false,
     "start_time": "2021-12-13T09:46:46.190187",
     "status": "completed"
    },
    "tags": []
   },
   "outputs": [
    {
     "name": "stdout",
     "output_type": "stream",
     "text": [
      "count    4017.000000\n",
      "mean       17.784167\n",
      "std         6.350720\n",
      "min         2.000000\n",
      "25%        14.000000\n",
      "50%        18.000000\n",
      "75%        22.000000\n",
      "max        43.000000\n",
      "Name: TDIFF, dtype: float64\n"
     ]
    },
    {
     "data": {
      "image/png": "[encoded data removed]",
      "text/plain": [
       "<Figure size 432x288 with 1 Axes>"
      ]
     },
     "metadata": {
      "needs_background": "light"
     },
     "output_type": "display_data"
    }
   ],
   "source": [
    "# to make sure about our data we take the different of max and min temperature\n",
    "# we will create an histogram to check it's distribution for validity. (no value should be negative)\n",
    "\n",
    "# Create a 'TDIFF' column that represents temperature difference\n",
    "weather['TDIFF'] = weather['TMAX'] - weather['TMIN']\n",
    "\n",
    "# Describe the 'TDIFF' column\n",
    "print(weather['TDIFF'].describe())\n",
    "\n",
    "# Create a histogram with 20 bins to visualize 'TDIFF'\n",
    "weather['TDIFF'].plot(kind='hist', bins=20)\n",
    "\n",
    "# Display the plot\n",
    "plt.show()"
   ]
  },
  {
   "cell_type": "code",
   "execution_count": 27,
   "id": "acaf80b4",
   "metadata": {
    "execution": {
     "iopub.execute_input": "2021-12-13T09:46:46.557542Z",
     "iopub.status.busy": "2021-12-13T09:46:46.556870Z",
     "iopub.status.idle": "2021-12-13T09:46:46.758856Z",
     "shell.execute_reply": "2021-12-13T09:46:46.758262Z",
     "shell.execute_reply.started": "2021-12-13T09:16:29.351452Z"
    },
    "papermill": {
     "duration": 0.254046,
     "end_time": "2021-12-13T09:46:46.759014",
     "exception": false,
     "start_time": "2021-12-13T09:46:46.504968",
     "status": "completed"
    },
    "tags": []
   },
   "outputs": [
    {
     "data": {
      "image/png": "[encoded data removed]",
      "text/plain": [
       "<Figure size 432x288 with 1 Axes>"
      ]
     },
     "metadata": {
      "needs_background": "light"
     },
     "output_type": "display_data"
    }
   ],
   "source": [
    "# count bad weather conditions, there are 3 columns we need to explore \n",
    "# WT05 indicates \"Hail\"\n",
    "# WT11 indicates \"High or damaging winds\"\n",
    "# WT17 indicates \"Freezing rain\"\n",
    "\n",
    "# we count how bad weather each day\n",
    "\n",
    "# Copy 'WT01' through 'WT22' to a new DataFrame\n",
    "WT = weather.loc[:, 'WT01': 'WT22']\n",
    "\n",
    "# Calculate the sum of each row in 'WT'\n",
    "weather['bad_conditions'] = WT.sum(axis='columns')\n",
    "\n",
    "# Replace missing values in 'bad_conditions' with '0'\n",
    "weather['bad_conditions'] = weather.bad_conditions.fillna(0).astype('int')\n",
    "\n",
    "# Create a histogram to visualize 'bad_conditions'\n",
    "weather['bad_conditions'].plot(kind='hist')\n",
    "\n",
    "# Display the plot\n",
    "plt.show()"
   ]
  },
  {
   "cell_type": "code",
   "execution_count": 28,
   "id": "8f593fc8",
   "metadata": {
    "execution": {
     "iopub.execute_input": "2021-12-13T09:46:46.862516Z",
     "iopub.status.busy": "2021-12-13T09:46:46.861778Z",
     "iopub.status.idle": "2021-12-13T09:46:46.867263Z",
     "shell.execute_reply": "2021-12-13T09:46:46.867724Z",
     "shell.execute_reply.started": "2021-12-13T09:16:29.561477Z"
    },
    "papermill": {
     "duration": 0.061506,
     "end_time": "2021-12-13T09:46:46.867904",
     "exception": false,
     "start_time": "2021-12-13T09:46:46.806398",
     "status": "completed"
    },
    "tags": []
   },
   "outputs": [
    {
     "name": "stdout",
     "output_type": "stream",
     "text": [
      "0    1749\n",
      "1     613\n",
      "2     367\n",
      "3     380\n",
      "4     476\n",
      "5     282\n",
      "6     101\n",
      "7      41\n",
      "8       4\n",
      "9       4\n",
      "Name: bad_conditions, dtype: int64\n",
      "bad      1836\n",
      "good     1749\n",
      "worse     432\n",
      "Name: rating, dtype: int64\n"
     ]
    }
   ],
   "source": [
    "# Now we will create a rating system to count bad weather\n",
    "\n",
    "# Count the unique values in 'bad_conditions' and sort the index\n",
    "print(weather.bad_conditions.value_counts().sort_index())\n",
    "\n",
    "# Create a dictionary that maps integers to strings\n",
    "mapping = {0:'good', 1:'bad', 2:'bad', 3:'bad', 4: 'bad',5: 'worse', 6: 'worse', 7: 'worse', 8: 'worse', 9: 'worse',}\n",
    "\n",
    "# Convert the 'bad_conditions' integers to strings using the 'mapping'\n",
    "weather['rating'] = weather.bad_conditions.map(mapping)\n",
    "\n",
    "# Count the unique values in 'rating'\n",
    "print(weather['rating'].value_counts())"
   ]
  },
  {
   "cell_type": "code",
   "execution_count": 29,
   "id": "c60760ae",
   "metadata": {
    "execution": {
     "iopub.execute_input": "2021-12-13T09:46:46.967539Z",
     "iopub.status.busy": "2021-12-13T09:46:46.966527Z",
     "iopub.status.idle": "2021-12-13T09:46:46.976673Z",
     "shell.execute_reply": "2021-12-13T09:46:46.975902Z",
     "shell.execute_reply.started": "2021-12-13T09:17:58.945727Z"
    },
    "papermill": {
     "duration": 0.060542,
     "end_time": "2021-12-13T09:46:46.976864",
     "exception": false,
     "start_time": "2021-12-13T09:46:46.916322",
     "status": "completed"
    },
    "tags": []
   },
   "outputs": [
    {
     "name": "stdout",
     "output_type": "stream",
     "text": [
      "0    bad\n",
      "1    bad\n",
      "2    bad\n",
      "3    bad\n",
      "4    bad\n",
      "Name: rating, dtype: category\n",
      "Categories (3, object): ['good' < 'bad' < 'worse']\n"
     ]
    }
   ],
   "source": [
    "# To make this rating column so it store data more efficently we make this a category column\n",
    "\n",
    "# Create a list of weather ratings in logical order\n",
    "cats = ['good', 'bad', 'worse']\n",
    "\n",
    "# Create a categorical object for creating custom category\n",
    "cat_dtype = CategoricalDtype(\n",
    "    categories=cats, ordered=True)\n",
    "\n",
    "# Change the data type of 'rating' to category\n",
    "weather['rating'] = weather.rating.astype(cat_dtype)\n",
    "\n",
    "# Examine the head of 'rating'\n",
    "print(weather.rating.head())"
   ]
  },
  {
   "cell_type": "code",
   "execution_count": 30,
   "id": "d78b98c5",
   "metadata": {
    "execution": {
     "iopub.execute_input": "2021-12-13T09:46:47.079678Z",
     "iopub.status.busy": "2021-12-13T09:46:47.078651Z",
     "iopub.status.idle": "2021-12-13T09:46:47.166794Z",
     "shell.execute_reply": "2021-12-13T09:46:47.165969Z",
     "shell.execute_reply.started": "2021-12-13T09:25:11.019576Z"
    },
    "papermill": {
     "duration": 0.14182,
     "end_time": "2021-12-13T09:46:47.166999",
     "exception": false,
     "start_time": "2021-12-13T09:46:47.025179",
     "status": "completed"
    },
    "tags": []
   },
   "outputs": [
    {
     "name": "stdout",
     "output_type": "stream",
     "text": [
      "        stop_datetime   stop_date stop_time driver_gender driver_race  \\\n",
      "0 2005-01-04 12:55:00  2005-01-04     12:55             M       White   \n",
      "1 2005-01-23 23:15:00  2005-01-23     23:15             M       White   \n",
      "2 2005-02-17 04:15:00  2005-02-17     04:15             M       White   \n",
      "3 2005-02-20 17:15:00  2005-02-20     17:15             M       White   \n",
      "4 2005-02-24 01:20:00  2005-02-24     01:20             F       White   \n",
      "\n",
      "                    violation_raw  violation  search_conducted search_type  \\\n",
      "0  Equipment/Inspection Violation  Equipment             False         NaN   \n",
      "1                        Speeding   Speeding             False         NaN   \n",
      "2                        Speeding   Speeding             False         NaN   \n",
      "3                Call for Service      Other             False         NaN   \n",
      "4                        Speeding   Speeding             False         NaN   \n",
      "\n",
      "    stop_outcome  is_arrested stop_duration  drugs_related_stop district  \\\n",
      "0       Citation        False      0-15 Min               False  Zone X4   \n",
      "1       Citation        False      0-15 Min               False  Zone K3   \n",
      "2       Citation        False      0-15 Min               False  Zone X4   \n",
      "3  Arrest Driver         True     16-30 Min               False  Zone X1   \n",
      "4       Citation        False      0-15 Min               False  Zone X3   \n",
      "\n",
      "   frisk  stop_minutes  \n",
      "0  False             8  \n",
      "1  False             8  \n",
      "2  False             8  \n",
      "3  False            23  \n",
      "4  False             8  \n",
      "         DATE rating\n",
      "0  2005-01-01    bad\n",
      "1  2005-01-02    bad\n",
      "2  2005-01-03    bad\n",
      "3  2005-01-04    bad\n",
      "4  2005-01-05    bad\n",
      "(86536, 16)\n",
      "(86536, 18)\n"
     ]
    }
   ],
   "source": [
    "# For further exploration we need to merge these 2 dataframes police traffic stop and weather\n",
    "\n",
    "# Reset the index of 'ri'\n",
    "police.reset_index(inplace=True)\n",
    "\n",
    "# Examine the head of 'ri'\n",
    "print(police.head())\n",
    "\n",
    "# Create a DataFrame from the 'DATE' and 'rating' columns\n",
    "weather_rating = weather.loc[:, ['DATE', 'rating']]\n",
    "\n",
    "# Examine the head of 'weather_rating'\n",
    "print(weather_rating.head())\n",
    "\n",
    "# Examine the shape of 'ri'\n",
    "print(police.shape)\n",
    "\n",
    "# Merge 'ri' and 'weather_rating' using a left join\n",
    "police_weather = pd.merge(left=police, right=weather_rating, left_on='stop_date', right_on='DATE', how='left')\n",
    "\n",
    "# Examine the shape of 'ri_weather'\n",
    "print(police_weather.shape)\n",
    "\n",
    "# Set 'stop_datetime' as the index of 'ri_weather'\n",
    "police_weather.set_index('stop_datetime', inplace=True)"
   ]
  },
  {
   "cell_type": "code",
   "execution_count": 31,
   "id": "7f7d67f5",
   "metadata": {
    "execution": {
     "iopub.execute_input": "2021-12-13T09:46:47.269464Z",
     "iopub.status.busy": "2021-12-13T09:46:47.267820Z",
     "iopub.status.idle": "2021-12-13T09:46:47.293461Z",
     "shell.execute_reply": "2021-12-13T09:46:47.293963Z",
     "shell.execute_reply.started": "2021-12-13T09:35:22.979076Z"
    },
    "papermill": {
     "duration": 0.079422,
     "end_time": "2021-12-13T09:46:47.294167",
     "exception": false,
     "start_time": "2021-12-13T09:46:47.214745",
     "status": "completed"
    },
    "tags": []
   },
   "outputs": [
    {
     "name": "stdout",
     "output_type": "stream",
     "text": [
      "0.0355690117407784\n",
      "rating\n",
      "good     0.033715\n",
      "bad      0.036261\n",
      "worse    0.041667\n",
      "Name: is_arrested, dtype: float64\n",
      "violation            rating\n",
      "Equipment            good      0.059007\n",
      "                     bad       0.066311\n",
      "                     worse     0.097357\n",
      "Moving violation     good      0.056227\n",
      "                     bad       0.058050\n",
      "                     worse     0.065860\n",
      "Other                good      0.076966\n",
      "                     bad       0.087443\n",
      "                     worse     0.062893\n",
      "Registration/plates  good      0.081574\n",
      "                     bad       0.098160\n",
      "                     worse     0.115625\n",
      "Seat belt            good      0.028587\n",
      "                     bad       0.022493\n",
      "                     worse     0.000000\n",
      "Speeding             good      0.013405\n",
      "                     bad       0.013314\n",
      "                     worse     0.016886\n",
      "Name: is_arrested, dtype: float64\n"
     ]
    }
   ],
   "source": [
    "# Now after merging, we want to analyze Are police officers arrest more drivers in bad weather\n",
    "\n",
    "# Calculate the overall arrest rate\n",
    "print(police_weather.is_arrested.mean())\n",
    "\n",
    "# Calculate the arrest rate for each 'rating'\n",
    "print(police_weather.groupby('rating').is_arrested.mean())\n",
    "\n",
    "# Calculate the arrest rate for each 'violation' and 'rating'\n",
    "print(police_weather.groupby(['violation', 'rating']).is_arrested.mean())"
   ]
  },
  {
   "cell_type": "code",
   "execution_count": 32,
   "id": "b8ecdf56",
   "metadata": {
    "execution": {
     "iopub.execute_input": "2021-12-13T09:46:47.405373Z",
     "iopub.status.busy": "2021-12-13T09:46:47.404372Z",
     "iopub.status.idle": "2021-12-13T09:46:47.422747Z",
     "shell.execute_reply": "2021-12-13T09:46:47.421880Z",
     "shell.execute_reply.started": "2021-12-13T09:39:54.503658Z"
    },
    "papermill": {
     "duration": 0.07913,
     "end_time": "2021-12-13T09:46:47.422942",
     "exception": false,
     "start_time": "2021-12-13T09:46:47.343812",
     "status": "completed"
    },
    "tags": []
   },
   "outputs": [
    {
     "name": "stdout",
     "output_type": "stream",
     "text": [
      "violation            rating\n",
      "Equipment            good      0.059007\n",
      "                     bad       0.066311\n",
      "                     worse     0.097357\n",
      "Moving violation     good      0.056227\n",
      "                     bad       0.058050\n",
      "                     worse     0.065860\n",
      "Other                good      0.076966\n",
      "                     bad       0.087443\n",
      "                     worse     0.062893\n",
      "Registration/plates  good      0.081574\n",
      "                     bad       0.098160\n",
      "                     worse     0.115625\n",
      "Seat belt            good      0.028587\n",
      "                     bad       0.022493\n",
      "                     worse     0.000000\n",
      "Speeding             good      0.013405\n",
      "                     bad       0.013314\n",
      "                     worse     0.016886\n",
      "Name: is_arrested, dtype: float64\n",
      "0.05804964058049641\n",
      "rating\n",
      "good     0.013405\n",
      "bad      0.013314\n",
      "worse    0.016886\n",
      "Name: is_arrested, dtype: float64\n"
     ]
    }
   ],
   "source": [
    "# filter data by it's multiple index how violation and rating changes data\n",
    "# Save the output of the groupby operation from the last exercise\n",
    "arrest_rate = police_weather.groupby(['violation', 'rating']).is_arrested.mean()\n",
    "\n",
    "# Print the 'arrest_rate' Series\n",
    "print(arrest_rate)\n",
    "\n",
    "# Print the arrest rate for moving violations in bad weather\n",
    "print(arrest_rate.loc['Moving violation', 'bad'])\n",
    "\n",
    "# Print the arrest rates for speeding violations in all three weather conditions\n",
    "print(arrest_rate.loc['Speeding'])"
   ]
  },
  {
   "cell_type": "code",
   "execution_count": 33,
   "id": "c39aeb26",
   "metadata": {
    "execution": {
     "iopub.execute_input": "2021-12-13T09:46:47.526910Z",
     "iopub.status.busy": "2021-12-13T09:46:47.525831Z",
     "iopub.status.idle": "2021-12-13T09:46:47.592531Z",
     "shell.execute_reply": "2021-12-13T09:46:47.593237Z",
     "shell.execute_reply.started": "2021-12-13T09:42:16.497045Z"
    },
    "papermill": {
     "duration": 0.121186,
     "end_time": "2021-12-13T09:46:47.593449",
     "exception": false,
     "start_time": "2021-12-13T09:46:47.472263",
     "status": "completed"
    },
    "tags": []
   },
   "outputs": [
    {
     "name": "stdout",
     "output_type": "stream",
     "text": [
      "rating                   good       bad     worse\n",
      "violation                                        \n",
      "Equipment            0.059007  0.066311  0.097357\n",
      "Moving violation     0.056227  0.058050  0.065860\n",
      "Other                0.076966  0.087443  0.062893\n",
      "Registration/plates  0.081574  0.098160  0.115625\n",
      "Seat belt            0.028587  0.022493  0.000000\n",
      "Speeding             0.013405  0.013314  0.016886\n",
      "rating                   good       bad     worse\n",
      "violation                                        \n",
      "Equipment            0.059007  0.066311  0.097357\n",
      "Moving violation     0.056227  0.058050  0.065860\n",
      "Other                0.076966  0.087443  0.062893\n",
      "Registration/plates  0.081574  0.098160  0.115625\n",
      "Seat belt            0.028587  0.022493  0.000000\n",
      "Speeding             0.013405  0.013314  0.016886\n"
     ]
    }
   ],
   "source": [
    "# for making the multiple-index data more efficent, we need to change it using pivot \n",
    "\n",
    "# Unstack the 'arrest_rate' Series into a DataFrame\n",
    "print(arrest_rate.unstack())\n",
    "\n",
    "# Create the same DataFrame using a pivot table\n",
    "print(police_weather.pivot_table(index='violation', columns='rating', values='is_arrested'))"
   ]
  },
  {
   "cell_type": "markdown",
   "id": "5d3c47c4",
   "metadata": {
    "papermill": {
     "duration": 0.047913,
     "end_time": "2021-12-13T09:46:47.690244",
     "exception": false,
     "start_time": "2021-12-13T09:46:47.642331",
     "status": "completed"
    },
    "tags": []
   },
   "source": [
    "# Conclusion\n",
    "We answer many question related this data and also learn pandas library how to analyze, transform and merge data. In this notebook we clean the dataset, transform data on requirements and visualize it so we can share our results."
   ]
  }
 ],
 "metadata": {
  "kernelspec": {
   "display_name": "Python 3",
   "language": "python",
   "name": "python3"
  },
  "language_info": {
   "codemirror_mode": {
    "name": "ipython",
    "version": 3
   },
   "file_extension": ".py",
   "mimetype": "text/x-python",
   "name": "python",
   "nbconvert_exporter": "python",
   "pygments_lexer": "ipython3",
   "version": "3.7.12"
  },
  "papermill": {
   "default_parameters": {},
   "duration": 17.695406,
   "end_time": "2021-12-13T09:46:48.347928",
   "environment_variables": {},
   "exception": null,
   "input_path": "__notebook__.ipynb",
   "output_path": "__notebook__.ipynb",
   "parameters": {},
   "start_time": "2021-12-13T09:46:30.652522",
   "version": "2.3.3"
  }
 },
 "nbformat": 4,
 "nbformat_minor": 5
}
